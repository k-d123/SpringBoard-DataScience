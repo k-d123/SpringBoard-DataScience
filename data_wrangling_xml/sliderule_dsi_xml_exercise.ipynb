{
 "cells": [
  {
   "cell_type": "markdown",
   "metadata": {},
   "source": [
    "# XML example and exercise\n",
    "****\n",
    "+ study examples of accessing nodes in XML tree structure  \n",
    "+ work on exercise to be completed and submitted\n",
    "****\n",
    "+ reference: https://docs.python.org/2.7/library/xml.etree.elementtree.html\n",
    "+ data source: http://www.dbis.informatik.uni-goettingen.de/Mondial\n",
    "****"
   ]
  },
  {
   "cell_type": "code",
   "execution_count": 2,
   "metadata": {
    "collapsed": true
   },
   "outputs": [],
   "source": [
    "from xml.etree import ElementTree as ET"
   ]
  },
  {
   "cell_type": "markdown",
   "metadata": {},
   "source": [
    "## XML example\n",
    "\n",
    "+ for details about tree traversal and iterators, see https://docs.python.org/2.7/library/xml.etree.elementtree.html"
   ]
  },
  {
   "cell_type": "code",
   "execution_count": 3,
   "metadata": {
    "collapsed": false
   },
   "outputs": [],
   "source": [
    "document_tree = ET.parse( './data/mondial_database_less.xml' )"
   ]
  },
  {
   "cell_type": "code",
   "execution_count": 4,
   "metadata": {
    "collapsed": false
   },
   "outputs": [
    {
     "name": "stdout",
     "output_type": "stream",
     "text": [
      "Albania\n",
      "Greece\n",
      "Macedonia\n",
      "Serbia\n",
      "Montenegro\n",
      "Kosovo\n",
      "Andorra\n"
     ]
    }
   ],
   "source": [
    "# print names of all countries\n",
    "for child in document_tree.getroot():\n",
    "    print (child.find('name').text)\n",
    "\n"
   ]
  },
  {
   "cell_type": "code",
   "execution_count": 5,
   "metadata": {
    "collapsed": false
   },
   "outputs": [
    {
     "name": "stdout",
     "output_type": "stream",
     "text": [
      "* Albania:\n",
      "Tirana, Shkodër, Durrës, Vlorë, Elbasan, Korçë\n",
      "* Greece:\n",
      "Komotini, Kavala, Athina, Peiraias, Peristeri, Acharnes, Patra, Kozani, Kerkyra, Ioannina, Thessaloniki, Iraklio, Chania, Ermoupoli, Rhodes, Tripoli, Lamia, Chalkida, Larissa, Volos, Mytilini, Karyes\n",
      "* Macedonia:\n",
      "Skopje, Kumanovo\n",
      "* Serbia:\n",
      "Beograd, Novi Sad, Niš\n",
      "* Montenegro:\n",
      "Podgorica\n",
      "* Kosovo:\n",
      "Prishtine\n",
      "* Andorra:\n",
      "Andorra la Vella\n"
     ]
    }
   ],
   "source": [
    "# print names of all countries and their cities\n",
    "for element in document_tree.iterfind('country'):\n",
    "    print ('* ' + element.find('name').text + ':',)\n",
    "    capitals_string = ''\n",
    "    for subelement in element.getiterator('city'):\n",
    "        capitals_string += subelement.find('name').text + ', '\n",
    "    print (capitals_string[:-2])"
   ]
  },
  {
   "cell_type": "markdown",
   "metadata": {},
   "source": [
    "****\n",
    "## XML exercise\n",
    "\n",
    "Using data in 'data/mondial_database.xml', the examples above, and refering to https://docs.python.org/2.7/library/xml.etree.elementtree.html, find\n",
    "\n",
    "1. 10 countries with the lowest infant mortality rates\n",
    "2. 10 cities with the largest population\n",
    "3. 10 ethnic groups with the largest overall populations (sum of best/latest estimates over all countries)\n",
    "4. name and country of a) longest river, b) largest lake and c) airport at highest elevation"
   ]
  },
  {
   "cell_type": "code",
   "execution_count": 6,
   "metadata": {
    "collapsed": false
   },
   "outputs": [],
   "source": [
    "document = ET.parse( './data/mondial_database.xml' )"
   ]
  },
  {
   "cell_type": "code",
   "execution_count": 7,
   "metadata": {
    "collapsed": false
   },
   "outputs": [],
   "source": [
    "import pandas as pd\n",
    "import numpy as np"
   ]
  },
  {
   "cell_type": "code",
   "execution_count": 8,
   "metadata": {
    "collapsed": false
   },
   "outputs": [
    {
     "data": {
      "text/html": [
       "<div>\n",
       "<table border=\"1\" class=\"dataframe\">\n",
       "  <thead>\n",
       "    <tr style=\"text-align: right;\">\n",
       "      <th></th>\n",
       "      <th>country</th>\n",
       "      <th>infant_mortality_rate</th>\n",
       "    </tr>\n",
       "  </thead>\n",
       "  <tbody>\n",
       "    <tr>\n",
       "      <th>38</th>\n",
       "      <td>Monaco</td>\n",
       "      <td>1.81</td>\n",
       "    </tr>\n",
       "    <tr>\n",
       "      <th>98</th>\n",
       "      <td>Japan</td>\n",
       "      <td>2.13</td>\n",
       "    </tr>\n",
       "    <tr>\n",
       "      <th>117</th>\n",
       "      <td>Bermuda</td>\n",
       "      <td>2.48</td>\n",
       "    </tr>\n",
       "    <tr>\n",
       "      <th>36</th>\n",
       "      <td>Norway</td>\n",
       "      <td>2.48</td>\n",
       "    </tr>\n",
       "    <tr>\n",
       "      <th>106</th>\n",
       "      <td>Singapore</td>\n",
       "      <td>2.53</td>\n",
       "    </tr>\n",
       "    <tr>\n",
       "      <th>37</th>\n",
       "      <td>Sweden</td>\n",
       "      <td>2.60</td>\n",
       "    </tr>\n",
       "    <tr>\n",
       "      <th>10</th>\n",
       "      <td>Czech Republic</td>\n",
       "      <td>2.63</td>\n",
       "    </tr>\n",
       "    <tr>\n",
       "      <th>78</th>\n",
       "      <td>Hong Kong</td>\n",
       "      <td>2.73</td>\n",
       "    </tr>\n",
       "    <tr>\n",
       "      <th>79</th>\n",
       "      <td>Macao</td>\n",
       "      <td>3.13</td>\n",
       "    </tr>\n",
       "    <tr>\n",
       "      <th>44</th>\n",
       "      <td>Iceland</td>\n",
       "      <td>3.15</td>\n",
       "    </tr>\n",
       "  </tbody>\n",
       "</table>\n",
       "</div>"
      ],
      "text/plain": [
       "            country  infant_mortality_rate\n",
       "38           Monaco                   1.81\n",
       "98            Japan                   2.13\n",
       "117         Bermuda                   2.48\n",
       "36           Norway                   2.48\n",
       "106       Singapore                   2.53\n",
       "37           Sweden                   2.60\n",
       "10   Czech Republic                   2.63\n",
       "78        Hong Kong                   2.73\n",
       "79            Macao                   3.13\n",
       "44          Iceland                   3.15"
      ]
     },
     "execution_count": 8,
     "metadata": {},
     "output_type": "execute_result"
    }
   ],
   "source": [
    "#10 countries with the lowest infant mortality rates\n",
    "countries=[]\n",
    "infant_mortality=[]\n",
    "for element in document.iterfind('country'):\n",
    "    if (element.find('name') is not None ):  \n",
    "        countries.append(element.find('name').text)\n",
    "        if (element.find('infant_mortality') is not None):\n",
    "            infant_mortality.append(element.find('infant_mortality').text)\n",
    "        else:\n",
    "            infant_mortality.append(np.nan)\n",
    "\n",
    "data = pd.DataFrame()\n",
    "data['country']=countries\n",
    "data['infant_mortality_rate']=infant_mortality\n",
    "data['infant_mortality_rate']=data['infant_mortality_rate'].astype(float)\n",
    "\n",
    "data.sort_values(by='infant_mortality_rate').head(10)"
   ]
  },
  {
   "cell_type": "code",
   "execution_count": 9,
   "metadata": {
    "collapsed": false
   },
   "outputs": [
    {
     "data": {
      "text/html": [
       "<div>\n",
       "<table border=\"1\" class=\"dataframe\">\n",
       "  <thead>\n",
       "    <tr style=\"text-align: right;\">\n",
       "      <th></th>\n",
       "      <th>city</th>\n",
       "      <th>population</th>\n",
       "    </tr>\n",
       "  </thead>\n",
       "  <tbody>\n",
       "    <tr>\n",
       "      <th>1341</th>\n",
       "      <td>Shanghai</td>\n",
       "      <td>22315474</td>\n",
       "    </tr>\n",
       "    <tr>\n",
       "      <th>771</th>\n",
       "      <td>Istanbul</td>\n",
       "      <td>13710512</td>\n",
       "    </tr>\n",
       "    <tr>\n",
       "      <th>1527</th>\n",
       "      <td>Mumbai</td>\n",
       "      <td>12442373</td>\n",
       "    </tr>\n",
       "    <tr>\n",
       "      <th>479</th>\n",
       "      <td>Moskva</td>\n",
       "      <td>11979529</td>\n",
       "    </tr>\n",
       "    <tr>\n",
       "      <th>1340</th>\n",
       "      <td>Beijing</td>\n",
       "      <td>11716620</td>\n",
       "    </tr>\n",
       "    <tr>\n",
       "      <th>2810</th>\n",
       "      <td>São Paulo</td>\n",
       "      <td>11152344</td>\n",
       "    </tr>\n",
       "    <tr>\n",
       "      <th>1342</th>\n",
       "      <td>Tianjin</td>\n",
       "      <td>11090314</td>\n",
       "    </tr>\n",
       "    <tr>\n",
       "      <th>1064</th>\n",
       "      <td>Guangzhou</td>\n",
       "      <td>11071424</td>\n",
       "    </tr>\n",
       "    <tr>\n",
       "      <th>1582</th>\n",
       "      <td>Delhi</td>\n",
       "      <td>11034555</td>\n",
       "    </tr>\n",
       "    <tr>\n",
       "      <th>1067</th>\n",
       "      <td>Shenzhen</td>\n",
       "      <td>10358381</td>\n",
       "    </tr>\n",
       "  </tbody>\n",
       "</table>\n",
       "</div>"
      ],
      "text/plain": [
       "           city  population\n",
       "1341   Shanghai    22315474\n",
       "771    Istanbul    13710512\n",
       "1527     Mumbai    12442373\n",
       "479      Moskva    11979529\n",
       "1340    Beijing    11716620\n",
       "2810  São Paulo    11152344\n",
       "1342    Tianjin    11090314\n",
       "1064  Guangzhou    11071424\n",
       "1582      Delhi    11034555\n",
       "1067   Shenzhen    10358381"
      ]
     },
     "execution_count": 9,
     "metadata": {},
     "output_type": "execute_result"
    }
   ],
   "source": [
    "#10 cities with the largest population\n",
    "city=[]\n",
    "population=[]\n",
    "\n",
    "for element in document.iterfind('country'):\n",
    "    for subelement in element.getiterator('city'):\n",
    "        city.append(subelement.find('name').text)\n",
    "        populate=''\n",
    "        for node in subelement.iter('population'):\n",
    "            populate=node.text\n",
    "        population.append(populate)\n",
    "       \n",
    "\n",
    "        \n",
    "data = pd.DataFrame()\n",
    "data['city']=city\n",
    "data['population']=population\n",
    "data['population']=data['population'].replace('',np.nan)\n",
    "data['population']=data['population'].astype(float)\n",
    "data.sort_values(by='population', ascending=False).head(10)        \n"
   ]
  },
  {
   "cell_type": "code",
   "execution_count": 38,
   "metadata": {
    "collapsed": false
   },
   "outputs": [
    {
     "data": {
      "text/html": [
       "<div>\n",
       "<table border=\"1\" class=\"dataframe\">\n",
       "  <thead>\n",
       "    <tr style=\"text-align: right;\">\n",
       "      <th></th>\n",
       "      <th>Population</th>\n",
       "    </tr>\n",
       "  </thead>\n",
       "  <tbody>\n",
       "    <tr>\n",
       "      <th>Han Chinese</th>\n",
       "      <td>1.245058800000000e+09</td>\n",
       "    </tr>\n",
       "    <tr>\n",
       "      <th>Indo-Aryan</th>\n",
       "      <td>8.718155834400001e+08</td>\n",
       "    </tr>\n",
       "    <tr>\n",
       "      <th>European</th>\n",
       "      <td>4.948722197196000e+08</td>\n",
       "    </tr>\n",
       "    <tr>\n",
       "      <th>African</th>\n",
       "      <td>3.183251203690000e+08</td>\n",
       "    </tr>\n",
       "    <tr>\n",
       "      <th>Dravidian</th>\n",
       "      <td>3.027137442500000e+08</td>\n",
       "    </tr>\n",
       "    <tr>\n",
       "      <th>Mestizo</th>\n",
       "      <td>1.577343549370000e+08</td>\n",
       "    </tr>\n",
       "    <tr>\n",
       "      <th>Bengali</th>\n",
       "      <td>1.467769167200000e+08</td>\n",
       "    </tr>\n",
       "    <tr>\n",
       "      <th>Russian</th>\n",
       "      <td>1.318569960770000e+08</td>\n",
       "    </tr>\n",
       "    <tr>\n",
       "      <th>Japanese</th>\n",
       "      <td>1.265342120000000e+08</td>\n",
       "    </tr>\n",
       "    <tr>\n",
       "      <th>Malay</th>\n",
       "      <td>1.219935503740000e+08</td>\n",
       "    </tr>\n",
       "  </tbody>\n",
       "</table>\n",
       "</div>"
      ],
      "text/plain": [
       "                        Population\n",
       "Han Chinese  1.245058800000000e+09\n",
       "Indo-Aryan   8.718155834400001e+08\n",
       "European     4.948722197196000e+08\n",
       "African      3.183251203690000e+08\n",
       "Dravidian    3.027137442500000e+08\n",
       "Mestizo      1.577343549370000e+08\n",
       "Bengali      1.467769167200000e+08\n",
       "Russian      1.318569960770000e+08\n",
       "Japanese     1.265342120000000e+08\n",
       "Malay        1.219935503740000e+08"
      ]
     },
     "execution_count": 38,
     "metadata": {},
     "output_type": "execute_result"
    }
   ],
   "source": [
    "#10 ethnic groups with the largest overall populations (sum of best/latest estimates over all countries)\n",
    "d={}\n",
    "\n",
    "for element in document.iterfind('country'):\n",
    "    for node in element.iterfind('population'):\n",
    "        population=node.text      \n",
    "    for subelement in element.getiterator('ethnicgroup'):        \n",
    "        if subelement.text in d:\n",
    "            d[subelement.text]+=float(subelement.attrib['percentage'])*float(population)/100  \n",
    "        else:\n",
    "            d[subelement.text]=float(subelement.attrib['percentage'])*float(population)/100  \n",
    "\n",
    "s = pd.Series(d, name='Population')\n",
    "s.reset_index()\n",
    "df=s.to_frame()\n",
    "\n",
    "pd.set_option('display.precision',15)\n",
    "df.sort_values(by='Population',ascending=False).head(10)"
   ]
  },
  {
   "cell_type": "code",
   "execution_count": 42,
   "metadata": {
    "collapsed": false
   },
   "outputs": [
    {
     "name": "stdout",
     "output_type": "stream",
     "text": [
      "a) Longest river:Amazonas\n",
      "Country:Colombia, Brazil, Peru, \n",
      "b) Largest lake:Caspian Sea\n",
      "Country:Russia, Azerbaijan, Kazakhstan, Iran, Turkmenistan, \n",
      "c) Highest Airport:El Alto Intl\n",
      "Country:Bolivia, \n"
     ]
    },
    {
     "data": {
      "text/plain": [
       "80    4063\n",
       "Name: elevation, dtype: float64"
      ]
     },
     "execution_count": 42,
     "metadata": {},
     "output_type": "execute_result"
    }
   ],
   "source": [
    "#name and country of a) longest river, b) largest lake and c) airport at highest elevation\n",
    "dict_country={}\n",
    "river_name=[]\n",
    "length=[]\n",
    "country=[]\n",
    "for element in document.iterfind('country'):\n",
    "    dict_country[element.attrib['car_code']]=element.find('name').text\n",
    "\n",
    "#longest river\n",
    "for element in document.iterfind('river'):    \n",
    "    river_name.append(element.find('name').text)\n",
    "    if element.find('length') is not None:\n",
    "        length.append(element.find('length').text)\n",
    "    else:\n",
    "        length.append(np.nan)\n",
    "    #country.append(element.attrib['country'])\n",
    "    country.append(element.attrib['country'].split(' '))\n",
    "    \n",
    "data = pd.DataFrame()\n",
    "data['river']=river_name\n",
    "data['length']=length\n",
    "data['country']=country\n",
    "data['length']=data['length'].astype(float)\n",
    "df=data.sort_values(by='length', ascending=False).head(1)\n",
    "\n",
    "print('a) Longest river:'+df.river.tolist()[0])\n",
    "countries=''\n",
    "for i in range(0,len(df.country.tolist()[0])):\n",
    "    countries+=dict_country[df.country.tolist()[0][i]]+', '\n",
    "    \n",
    "print('Country:'+countries)\n",
    "\n",
    "#largest lake\n",
    "lake_name=[]\n",
    "area=[]\n",
    "country=[]\n",
    "for element in document.iterfind('lake'):    \n",
    "    lake_name.append(element.find('name').text)    \n",
    "    if element.find('area') is not None:\n",
    "        area.append(element.find('area').text)        \n",
    "    else:\n",
    "        area.append(np.nan)\n",
    "    country.append(element.attrib['country'].split(' '))\n",
    "    \n",
    "data=pd.DataFrame()\n",
    "data['lake']=lake_name\n",
    "data['area']=area\n",
    "data['country']=country\n",
    "data['area']=data['area'].astype(float)\n",
    "df=data.sort_values(by='area', ascending=False).head(1)\n",
    "\n",
    "print('b) Largest lake:'+df.lake.tolist()[0])\n",
    "countries=''\n",
    "for i in range(0,len(df.country.tolist()[0])):\n",
    "    countries+=dict_country[df.country.tolist()[0][i]]+', '\n",
    "    \n",
    "print('Country:'+countries)\n",
    "\n",
    "#airport at highest elevation\n",
    "airport=[]\n",
    "elevation=[]\n",
    "country=[]\n",
    "for element in document.iterfind('airport'):    \n",
    "    airport.append(element.find('name').text)    \n",
    "    if element.find('elevation') is not None:\n",
    "        elevation.append(element.find('elevation').text)        \n",
    "    else:\n",
    "        elevation.append(np.nan)\n",
    "    country.append(element.attrib['country'].split(' '))\n",
    "    \n",
    "data=pd.DataFrame()\n",
    "data['airport']=airport\n",
    "data['elevation']=elevation\n",
    "data['country']=country\n",
    "data['elevation']=data['elevation'].astype(float)\n",
    "df=data.sort_values(by='elevation', ascending=False).head(1)\n",
    "\n",
    "print('c) Highest Airport:'+df.airport.tolist()[0])\n",
    "countries=''\n",
    "for i in range(0,len(df.country.tolist()[0])):\n",
    "    countries+=dict_country[df.country.tolist()[0][i]]+', '\n",
    "    \n",
    "print('Country:'+countries)\n",
    "\n"
   ]
  }
 ],
 "metadata": {
  "kernelspec": {
   "display_name": "Python 3",
   "language": "python",
   "name": "python3"
  },
  "language_info": {
   "codemirror_mode": {
    "name": "ipython",
    "version": 3
   },
   "file_extension": ".py",
   "mimetype": "text/x-python",
   "name": "python",
   "nbconvert_exporter": "python",
   "pygments_lexer": "ipython3",
   "version": "3.5.1"
  }
 },
 "nbformat": 4,
 "nbformat_minor": 0
}
